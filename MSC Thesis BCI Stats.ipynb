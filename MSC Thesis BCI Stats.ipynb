{
 "cells": [
  {
   "cell_type": "code",
   "execution_count": 1,
   "id": "b263a4a0",
   "metadata": {},
   "outputs": [
    {
     "name": "stdout",
     "output_type": "stream",
     "text": [
      "['Experiment Notes.pdf', 'P10', 'P11', 'P2', 'P3', 'P4', 'P5', 'P6', 'P7', 'P8', 'P9', 'Questionnaires']\n"
     ]
    }
   ],
   "source": [
    "import os\n",
    "os.chdir('C:\\\\Users\\\\anita\\\\OneDrive\\\\Bureaublad\\\\Anita\\'s stuff II\\\\Tilburg university\\\\MSC Thesis\\\\Data')\n",
    "\n",
    "import numpy as np\n",
    "import pandas as pd\n",
    "\n",
    "print(os.listdir())"
   ]
  },
  {
   "cell_type": "code",
   "execution_count": 15,
   "id": "635df09f",
   "metadata": {},
   "outputs": [
    {
     "name": "stdout",
     "output_type": "stream",
     "text": [
      "Gamified_t0\\Gamified_t0\n",
      "Gamified_t0\\Gamified_t1\n",
      "Gamified_t0\\Gamified_t2\n",
      "Gamified_t0\\Gamified_t3\n",
      "Gamified_t0\\Standard_t0\n",
      "Gamified_t0\\Standard_t1\n",
      "Gamified_t0\\Standard_t2\n",
      "Gamified_t0\\Standard_t3\n",
      "Gamified_t1\\Gamified_t0\n",
      "Gamified_t1\\Gamified_t1\n",
      "Gamified_t1\\Gamified_t2\n",
      "Gamified_t1\\Gamified_t3\n",
      "Gamified_t1\\Standard_t0\n",
      "Gamified_t1\\Standard_t1\n",
      "Gamified_t1\\Standard_t2\n",
      "Gamified_t1\\Standard_t3\n",
      "20240508_123219__ERPAutotrainingPipeline_raw_data0.csv\\Gamified_t0\n",
      "20240508_123219__ERPAutotrainingPipeline_raw_data0.csv\\Gamified_t1\n",
      "20240508_123219__ERPAutotrainingPipeline_raw_data0.csv\\Gamified_t2\n",
      "20240508_123219__ERPAutotrainingPipeline_raw_data0.csv\\Gamified_t3\n",
      "20240508_123219__ERPAutotrainingPipeline_raw_data0.csv\\Standard_t0\n",
      "20240508_123219__ERPAutotrainingPipeline_raw_data0.csv\\Standard_t1\n",
      "20240508_123219__ERPAutotrainingPipeline_raw_data0.csv\\Standard_t2\n",
      "20240508_123219__ERPAutotrainingPipeline_raw_data0.csv\\Standard_t3\n",
      "20240508_144321__ERPAutotrainingPipeline_raw_data0.csv\\Gamified_t0\n",
      "20240508_144321__ERPAutotrainingPipeline_raw_data0.csv\\Gamified_t1\n",
      "20240508_144321__ERPAutotrainingPipeline_raw_data0.csv\\Gamified_t2\n",
      "20240508_144321__ERPAutotrainingPipeline_raw_data0.csv\\Gamified_t3\n",
      "20240508_144321__ERPAutotrainingPipeline_raw_data0.csv\\Standard_t0\n",
      "20240508_144321__ERPAutotrainingPipeline_raw_data0.csv\\Standard_t1\n",
      "20240508_144321__ERPAutotrainingPipeline_raw_data0.csv\\Standard_t2\n",
      "20240508_144321__ERPAutotrainingPipeline_raw_data0.csv\\Standard_t3\n",
      "P4 notes.txt\\Gamified_t0\n",
      "P4 notes.txt\\Gamified_t1\n",
      "P4 notes.txt\\Gamified_t2\n",
      "P4 notes.txt\\Gamified_t3\n",
      "P4 notes.txt\\Standard_t0\n",
      "P4 notes.txt\\Standard_t1\n",
      "P4 notes.txt\\Standard_t2\n",
      "P4 notes.txt\\Standard_t3\n",
      "P5_post_gamified_2.csv\\Gamified_t0\n",
      "P5_post_gamified_2.csv\\Gamified_t1\n",
      "P5_post_gamified_2.csv\\Gamified_t2\n",
      "P5_post_gamified_2.csv\\Gamified_t3\n",
      "P5_post_gamified_2.csv\\Standard_t0\n",
      "P5_post_gamified_2.csv\\Standard_t1\n",
      "P5_post_gamified_2.csv\\Standard_t2\n",
      "P5_post_gamified_2.csv\\Standard_t3\n",
      "P6_post_standard_2.csv\\Gamified_t0\n",
      "P6_post_standard_2.csv\\Gamified_t1\n",
      "P6_post_standard_2.csv\\Gamified_t2\n",
      "P6_post_standard_2.csv\\Gamified_t3\n",
      "P6_post_standard_2.csv\\Standard_t0\n",
      "P6_post_standard_2.csv\\Standard_t1\n",
      "P6_post_standard_2.csv\\Standard_t2\n",
      "P6_post_standard_2.csv\\Standard_t3\n",
      "Standard_t0\\Gamified_t0\n",
      "Standard_t0\\Gamified_t1\n",
      "Standard_t0\\Gamified_t2\n",
      "Standard_t0\\Gamified_t3\n",
      "Standard_t0\\Standard_t0\n",
      "Standard_t0\\Standard_t1\n",
      "Standard_t0\\Standard_t2\n",
      "Standard_t0\\Standard_t3\n",
      "UnicornRecorder_16_05_2024_12_03_230.csv\\Gamified_t0\n",
      "UnicornRecorder_16_05_2024_12_03_230.csv\\Gamified_t1\n",
      "UnicornRecorder_16_05_2024_12_03_230.csv\\Gamified_t2\n",
      "UnicornRecorder_16_05_2024_12_03_230.csv\\Gamified_t3\n",
      "UnicornRecorder_16_05_2024_12_03_230.csv\\Standard_t0\n",
      "UnicornRecorder_16_05_2024_12_03_230.csv\\Standard_t1\n",
      "UnicornRecorder_16_05_2024_12_03_230.csv\\Standard_t2\n",
      "UnicornRecorder_16_05_2024_12_03_230.csv\\Standard_t3\n",
      "UnicornRecorder_16_05_2024_14_43_410.csv\\Gamified_t0\n",
      "UnicornRecorder_16_05_2024_14_43_410.csv\\Gamified_t1\n",
      "UnicornRecorder_16_05_2024_14_43_410.csv\\Gamified_t2\n",
      "UnicornRecorder_16_05_2024_14_43_410.csv\\Gamified_t3\n",
      "UnicornRecorder_16_05_2024_14_43_410.csv\\Standard_t0\n",
      "UnicornRecorder_16_05_2024_14_43_410.csv\\Standard_t1\n",
      "UnicornRecorder_16_05_2024_14_43_410.csv\\Standard_t2\n",
      "UnicornRecorder_16_05_2024_14_43_410.csv\\Standard_t3\n",
      "[]\n"
     ]
    }
   ],
   "source": [
    "relevant_files = ['P10', 'P11', 'P2', 'P3', 'P4', 'P5', 'P6', 'P7', 'P8', 'P9']\n",
    "conditions = ['Gamified_t0', 'Gamified_t1', 'Gamified_t2', 'Gamified_t3', 'Standard_t0', 'Standard_t1', 'Standard_t2', 'Standard_t3']\n",
    "\n",
    "all_files = []\n",
    "\n",
    "for i in range(len(relevant_files)):\n",
    "    #print(os.getcwd()+'\\\\'+relevant_files[i])\n",
    "    \n",
    "    files = os.listdir(os.getcwd()+'\\\\'+relevant_files[i])\n",
    "    \n",
    "    for j in range(len(conditions)):\n",
    "        current = str(files[i]) + '\\\\' + conditions[j]\n",
    "        print(current)\n",
    "        \n",
    "        if current.lower().endswith('.csv'):\n",
    "            \n",
    "            file = pd.read_csv(current)\n",
    "            all_files.append(file)\n",
    "        else:\n",
    "            pass\n",
    "\n",
    "print(all_files)\n",
    "    "
   ]
  }
 ],
 "metadata": {
  "kernelspec": {
   "display_name": "Python 3 (ipykernel)",
   "language": "python",
   "name": "python3"
  },
  "language_info": {
   "codemirror_mode": {
    "name": "ipython",
    "version": 3
   },
   "file_extension": ".py",
   "mimetype": "text/x-python",
   "name": "python",
   "nbconvert_exporter": "python",
   "pygments_lexer": "ipython3",
   "version": "3.9.18"
  }
 },
 "nbformat": 4,
 "nbformat_minor": 5
}
